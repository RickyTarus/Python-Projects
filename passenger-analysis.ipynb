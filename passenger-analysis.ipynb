{
 "cells": [
  {
   "cell_type": "code",
   "execution_count": 1,
   "id": "5017cda1",
   "metadata": {
    "execution": {
     "iopub.execute_input": "2024-06-03T19:18:33.841722Z",
     "iopub.status.busy": "2024-06-03T19:18:33.841318Z",
     "iopub.status.idle": "2024-06-03T19:18:34.669272Z",
     "shell.execute_reply": "2024-06-03T19:18:34.668205Z"
    },
    "papermill": {
     "duration": 0.836094,
     "end_time": "2024-06-03T19:18:34.671760",
     "exception": false,
     "start_time": "2024-06-03T19:18:33.835666",
     "status": "completed"
    },
    "tags": []
   },
   "outputs": [],
   "source": [
    "import pandas as pd\n",
    "import matplotlib.pyplot as plt\n",
    "import matplotlib"
   ]
  },
  {
   "cell_type": "code",
   "execution_count": 2,
   "id": "15ba160a",
   "metadata": {
    "execution": {
     "iopub.execute_input": "2024-06-03T19:18:34.682064Z",
     "iopub.status.busy": "2024-06-03T19:18:34.681525Z",
     "iopub.status.idle": "2024-06-03T19:18:34.709184Z",
     "shell.execute_reply": "2024-06-03T19:18:34.707835Z"
    },
    "papermill": {
     "duration": 0.035156,
     "end_time": "2024-06-03T19:18:34.711770",
     "exception": false,
     "start_time": "2024-06-03T19:18:34.676614",
     "status": "completed"
    },
    "tags": []
   },
   "outputs": [],
   "source": [
    "titanic = pd.read_csv('/kaggle/input/titanic/train_and_test2.csv')"
   ]
  },
  {
   "cell_type": "raw",
   "id": "c8002722",
   "metadata": {
    "papermill": {
     "duration": 0.00343,
     "end_time": "2024-06-03T19:18:34.718987",
     "exception": false,
     "start_time": "2024-06-03T19:18:34.715557",
     "status": "completed"
    },
    "tags": []
   },
   "source": [
    "titanic.mean()"
   ]
  },
  {
   "cell_type": "code",
   "execution_count": 3,
   "id": "b271240d",
   "metadata": {
    "_cell_guid": "b1076dfc-b9ad-4769-8c92-a6c4dae69d19",
    "_uuid": "8f2839f25d086af736a60e9eeb907d3b93b6e0e5",
    "execution": {
     "iopub.execute_input": "2024-06-03T19:18:34.727943Z",
     "iopub.status.busy": "2024-06-03T19:18:34.727567Z",
     "iopub.status.idle": "2024-06-03T19:18:34.736793Z",
     "shell.execute_reply": "2024-06-03T19:18:34.735581Z"
    },
    "papermill": {
     "duration": 0.016204,
     "end_time": "2024-06-03T19:18:34.738884",
     "exception": false,
     "start_time": "2024-06-03T19:18:34.722680",
     "status": "completed"
    },
    "tags": []
   },
   "outputs": [
    {
     "name": "stdout",
     "output_type": "stream",
     "text": [
      "/kaggle/input/titanic/train_and_test2.csv\n"
     ]
    }
   ],
   "source": [
    "# This Python 3 environment comes with many helpful analytics libraries installed\n",
    "# It is defined by the kaggle/python Docker image: https://github.com/kaggle/docker-python\n",
    "# For example, here's several helpful packages to load\n",
    "\n",
    "import numpy as np # linear algebra\n",
    "import pandas as pd # data processing, CSV file I/O (e.g. pd.read_csv)\n",
    "\n",
    "# Input data files are available in the read-only \"../input/\" directory\n",
    "# For example, running this (by clicking run or pressing Shift+Enter) will list all files under the input directory\n",
    "\n",
    "import os\n",
    "for dirname, _, filenames in os.walk('/kaggle/input'):\n",
    "    for filename in filenames:\n",
    "        print(os.path.join(dirname, filename))\n",
    "\n",
    "# You can write up to 20GB to the current directory (/kaggle/working/) that gets preserved as output when you create a version using \"Save & Run All\" \n",
    "# You can also write temporary files to /kaggle/temp/, but they won't be saved outside of the current session"
   ]
  },
  {
   "cell_type": "code",
   "execution_count": 4,
   "id": "b0bf2cd7",
   "metadata": {
    "execution": {
     "iopub.execute_input": "2024-06-03T19:18:34.748289Z",
     "iopub.status.busy": "2024-06-03T19:18:34.747509Z",
     "iopub.status.idle": "2024-06-03T19:18:34.844904Z",
     "shell.execute_reply": "2024-06-03T19:18:34.843184Z"
    },
    "papermill": {
     "duration": 0.104555,
     "end_time": "2024-06-03T19:18:34.847304",
     "exception": false,
     "start_time": "2024-06-03T19:18:34.742749",
     "status": "completed"
    },
    "tags": []
   },
   "outputs": [
    {
     "name": "stdout",
     "output_type": "stream",
     "text": [
      "   Passengerid   Age     Fare  Sex  sibsp  zero  zero.1  zero.2  zero.3  \\\n",
      "0            1  22.0   7.2500    0      1     0       0       0       0   \n",
      "1            2  38.0  71.2833    1      1     0       0       0       0   \n",
      "2            3  26.0   7.9250    1      0     0       0       0       0   \n",
      "3            4  35.0  53.1000    1      1     0       0       0       0   \n",
      "4            5  35.0   8.0500    0      0     0       0       0       0   \n",
      "\n",
      "   zero.4  ...  zero.12  zero.13  zero.14  Pclass  zero.15  zero.16  Embarked  \\\n",
      "0       0  ...        0        0        0       3        0        0       2.0   \n",
      "1       0  ...        0        0        0       1        0        0       0.0   \n",
      "2       0  ...        0        0        0       3        0        0       2.0   \n",
      "3       0  ...        0        0        0       1        0        0       2.0   \n",
      "4       0  ...        0        0        0       3        0        0       2.0   \n",
      "\n",
      "   zero.17  zero.18  2urvived  \n",
      "0        0        0         0  \n",
      "1        0        0         1  \n",
      "2        0        0         1  \n",
      "3        0        0         1  \n",
      "4        0        0         0  \n",
      "\n",
      "[5 rows x 28 columns]\n",
      "<class 'pandas.core.frame.DataFrame'>\n",
      "RangeIndex: 1309 entries, 0 to 1308\n",
      "Data columns (total 28 columns):\n",
      " #   Column       Non-Null Count  Dtype  \n",
      "---  ------       --------------  -----  \n",
      " 0   Passengerid  1309 non-null   int64  \n",
      " 1   Age          1309 non-null   float64\n",
      " 2   Fare         1309 non-null   float64\n",
      " 3   Sex          1309 non-null   int64  \n",
      " 4   sibsp        1309 non-null   int64  \n",
      " 5   zero         1309 non-null   int64  \n",
      " 6   zero.1       1309 non-null   int64  \n",
      " 7   zero.2       1309 non-null   int64  \n",
      " 8   zero.3       1309 non-null   int64  \n",
      " 9   zero.4       1309 non-null   int64  \n",
      " 10  zero.5       1309 non-null   int64  \n",
      " 11  zero.6       1309 non-null   int64  \n",
      " 12  Parch        1309 non-null   int64  \n",
      " 13  zero.7       1309 non-null   int64  \n",
      " 14  zero.8       1309 non-null   int64  \n",
      " 15  zero.9       1309 non-null   int64  \n",
      " 16  zero.10      1309 non-null   int64  \n",
      " 17  zero.11      1309 non-null   int64  \n",
      " 18  zero.12      1309 non-null   int64  \n",
      " 19  zero.13      1309 non-null   int64  \n",
      " 20  zero.14      1309 non-null   int64  \n",
      " 21  Pclass       1309 non-null   int64  \n",
      " 22  zero.15      1309 non-null   int64  \n",
      " 23  zero.16      1309 non-null   int64  \n",
      " 24  Embarked     1307 non-null   float64\n",
      " 25  zero.17      1309 non-null   int64  \n",
      " 26  zero.18      1309 non-null   int64  \n",
      " 27  2urvived     1309 non-null   int64  \n",
      "dtypes: float64(3), int64(25)\n",
      "memory usage: 286.5 KB\n",
      "None\n",
      "       Passengerid          Age         Fare          Sex        sibsp  \\\n",
      "count  1309.000000  1309.000000  1309.000000  1309.000000  1309.000000   \n",
      "mean    655.000000    29.503186    33.281086     0.355997     0.498854   \n",
      "std     378.020061    12.905241    51.741500     0.478997     1.041658   \n",
      "min       1.000000     0.170000     0.000000     0.000000     0.000000   \n",
      "25%     328.000000    22.000000     7.895800     0.000000     0.000000   \n",
      "50%     655.000000    28.000000    14.454200     0.000000     0.000000   \n",
      "75%     982.000000    35.000000    31.275000     1.000000     1.000000   \n",
      "max    1309.000000    80.000000   512.329200     1.000000     8.000000   \n",
      "\n",
      "         zero  zero.1  zero.2  zero.3  zero.4  ...  zero.12  zero.13  zero.14  \\\n",
      "count  1309.0  1309.0  1309.0  1309.0  1309.0  ...   1309.0   1309.0   1309.0   \n",
      "mean      0.0     0.0     0.0     0.0     0.0  ...      0.0      0.0      0.0   \n",
      "std       0.0     0.0     0.0     0.0     0.0  ...      0.0      0.0      0.0   \n",
      "min       0.0     0.0     0.0     0.0     0.0  ...      0.0      0.0      0.0   \n",
      "25%       0.0     0.0     0.0     0.0     0.0  ...      0.0      0.0      0.0   \n",
      "50%       0.0     0.0     0.0     0.0     0.0  ...      0.0      0.0      0.0   \n",
      "75%       0.0     0.0     0.0     0.0     0.0  ...      0.0      0.0      0.0   \n",
      "max       0.0     0.0     0.0     0.0     0.0  ...      0.0      0.0      0.0   \n",
      "\n",
      "            Pclass  zero.15  zero.16     Embarked  zero.17  zero.18  \\\n",
      "count  1309.000000   1309.0   1309.0  1307.000000   1309.0   1309.0   \n",
      "mean      2.294882      0.0      0.0     1.492731      0.0      0.0   \n",
      "std       0.837836      0.0      0.0     0.814626      0.0      0.0   \n",
      "min       1.000000      0.0      0.0     0.000000      0.0      0.0   \n",
      "25%       2.000000      0.0      0.0     1.000000      0.0      0.0   \n",
      "50%       3.000000      0.0      0.0     2.000000      0.0      0.0   \n",
      "75%       3.000000      0.0      0.0     2.000000      0.0      0.0   \n",
      "max       3.000000      0.0      0.0     2.000000      0.0      0.0   \n",
      "\n",
      "          2urvived  \n",
      "count  1309.000000  \n",
      "mean      0.261268  \n",
      "std       0.439494  \n",
      "min       0.000000  \n",
      "25%       0.000000  \n",
      "50%       0.000000  \n",
      "75%       1.000000  \n",
      "max       1.000000  \n",
      "\n",
      "[8 rows x 28 columns]\n"
     ]
    }
   ],
   "source": [
    "print(titanic.head())\n",
    "print(titanic.info())\n",
    "print(titanic.describe())"
   ]
  },
  {
   "cell_type": "code",
   "execution_count": 5,
   "id": "1f3dba7d",
   "metadata": {
    "execution": {
     "iopub.execute_input": "2024-06-03T19:18:34.857201Z",
     "iopub.status.busy": "2024-06-03T19:18:34.856493Z",
     "iopub.status.idle": "2024-06-03T19:18:34.864327Z",
     "shell.execute_reply": "2024-06-03T19:18:34.863381Z"
    },
    "papermill": {
     "duration": 0.015016,
     "end_time": "2024-06-03T19:18:34.866409",
     "exception": false,
     "start_time": "2024-06-03T19:18:34.851393",
     "status": "completed"
    },
    "tags": []
   },
   "outputs": [
    {
     "data": {
      "text/plain": [
       "0.3559969442322384"
      ]
     },
     "execution_count": 5,
     "metadata": {},
     "output_type": "execute_result"
    }
   ],
   "source": [
    "titanic.loc[:, 'Sex']\n",
    "titanic1 = titanic.loc[:, 'Sex']\n",
    "titanic1.mean()"
   ]
  },
  {
   "cell_type": "code",
   "execution_count": null,
   "id": "f31813d2",
   "metadata": {
    "execution": {
     "iopub.execute_input": "2024-06-03T18:38:22.309262Z",
     "iopub.status.busy": "2024-06-03T18:38:22.308833Z",
     "iopub.status.idle": "2024-06-03T18:38:22.318214Z",
     "shell.execute_reply": "2024-06-03T18:38:22.316895Z",
     "shell.execute_reply.started": "2024-06-03T18:38:22.309225Z"
    },
    "jupyter": {
     "source_hidden": true
    },
    "papermill": {
     "duration": 0.003775,
     "end_time": "2024-06-03T19:18:34.874443",
     "exception": false,
     "start_time": "2024-06-03T19:18:34.870668",
     "status": "completed"
    },
    "tags": []
   },
   "outputs": [],
   "source": []
  },
  {
   "cell_type": "code",
   "execution_count": null,
   "id": "f9387da2",
   "metadata": {
    "execution": {
     "iopub.execute_input": "2024-06-03T18:38:22.321733Z",
     "iopub.status.busy": "2024-06-03T18:38:22.321205Z",
     "iopub.status.idle": "2024-06-03T18:38:22.330422Z",
     "shell.execute_reply": "2024-06-03T18:38:22.329325Z",
     "shell.execute_reply.started": "2024-06-03T18:38:22.321693Z"
    },
    "papermill": {
     "duration": 0.003596,
     "end_time": "2024-06-03T19:18:34.881918",
     "exception": false,
     "start_time": "2024-06-03T19:18:34.878322",
     "status": "completed"
    },
    "tags": []
   },
   "outputs": [],
   "source": []
  },
  {
   "cell_type": "code",
   "execution_count": 6,
   "id": "b4bd1f29",
   "metadata": {
    "execution": {
     "iopub.execute_input": "2024-06-03T19:18:34.891216Z",
     "iopub.status.busy": "2024-06-03T19:18:34.890860Z",
     "iopub.status.idle": "2024-06-03T19:18:34.898093Z",
     "shell.execute_reply": "2024-06-03T19:18:34.897173Z"
    },
    "papermill": {
     "duration": 0.014413,
     "end_time": "2024-06-03T19:18:34.900140",
     "exception": false,
     "start_time": "2024-06-03T19:18:34.885727",
     "status": "completed"
    },
    "tags": []
   },
   "outputs": [
    {
     "data": {
      "text/plain": [
       "14.4542"
      ]
     },
     "execution_count": 6,
     "metadata": {},
     "output_type": "execute_result"
    }
   ],
   "source": [
    "titanic2 = titanic.loc[:, 'Fare']\n",
    "titanic2.median()"
   ]
  },
  {
   "cell_type": "code",
   "execution_count": 7,
   "id": "b7b849a8",
   "metadata": {
    "execution": {
     "iopub.execute_input": "2024-06-03T19:18:34.909965Z",
     "iopub.status.busy": "2024-06-03T19:18:34.909602Z",
     "iopub.status.idle": "2024-06-03T19:18:34.916063Z",
     "shell.execute_reply": "2024-06-03T19:18:34.915077Z"
    },
    "papermill": {
     "duration": 0.01381,
     "end_time": "2024-06-03T19:18:34.918198",
     "exception": false,
     "start_time": "2024-06-03T19:18:34.904388",
     "status": "completed"
    },
    "tags": []
   },
   "outputs": [],
   "source": [
    "titanic['category'] = titanic['Fare'].apply(lambda x: 'upper' if x > 14.4542 else 'lower')"
   ]
  },
  {
   "cell_type": "code",
   "execution_count": 8,
   "id": "aa78d74e",
   "metadata": {
    "execution": {
     "iopub.execute_input": "2024-06-03T19:18:34.928137Z",
     "iopub.status.busy": "2024-06-03T19:18:34.927783Z",
     "iopub.status.idle": "2024-06-03T19:18:34.941667Z",
     "shell.execute_reply": "2024-06-03T19:18:34.940307Z"
    },
    "papermill": {
     "duration": 0.021372,
     "end_time": "2024-06-03T19:18:34.943923",
     "exception": false,
     "start_time": "2024-06-03T19:18:34.922551",
     "status": "completed"
    },
    "tags": []
   },
   "outputs": [
    {
     "name": "stdout",
     "output_type": "stream",
     "text": [
      "   Passengerid   Age     Fare  Sex  sibsp  zero  zero.1  zero.2  zero.3  \\\n",
      "0            1  22.0   7.2500    0      1     0       0       0       0   \n",
      "1            2  38.0  71.2833    1      1     0       0       0       0   \n",
      "2            3  26.0   7.9250    1      0     0       0       0       0   \n",
      "3            4  35.0  53.1000    1      1     0       0       0       0   \n",
      "4            5  35.0   8.0500    0      0     0       0       0       0   \n",
      "\n",
      "   zero.4  ...  zero.13  zero.14  Pclass  zero.15  zero.16  Embarked  zero.17  \\\n",
      "0       0  ...        0        0       3        0        0       2.0        0   \n",
      "1       0  ...        0        0       1        0        0       0.0        0   \n",
      "2       0  ...        0        0       3        0        0       2.0        0   \n",
      "3       0  ...        0        0       1        0        0       2.0        0   \n",
      "4       0  ...        0        0       3        0        0       2.0        0   \n",
      "\n",
      "   zero.18  2urvived  category  \n",
      "0        0         0     lower  \n",
      "1        0         1     upper  \n",
      "2        0         1     lower  \n",
      "3        0         1     upper  \n",
      "4        0         0     lower  \n",
      "\n",
      "[5 rows x 29 columns]\n"
     ]
    }
   ],
   "source": [
    "print(titanic.head())"
   ]
  },
  {
   "cell_type": "code",
   "execution_count": 9,
   "id": "f5b8921e",
   "metadata": {
    "execution": {
     "iopub.execute_input": "2024-06-03T19:18:34.953952Z",
     "iopub.status.busy": "2024-06-03T19:18:34.953588Z",
     "iopub.status.idle": "2024-06-03T19:18:34.968574Z",
     "shell.execute_reply": "2024-06-03T19:18:34.967084Z"
    },
    "papermill": {
     "duration": 0.022556,
     "end_time": "2024-06-03T19:18:34.970919",
     "exception": false,
     "start_time": "2024-06-03T19:18:34.948363",
     "status": "completed"
    },
    "tags": []
   },
   "outputs": [
    {
     "name": "stdout",
     "output_type": "stream",
     "text": [
      "Proportions between 'upper' values and sex\n",
      "category     lower     upper\n",
      "Sex                         \n",
      "0         0.583630  0.416370\n",
      "1         0.356223  0.643777\n"
     ]
    }
   ],
   "source": [
    "grouped = titanic.groupby(['Sex', 'category']).size().unstack()\n",
    "proportions = grouped.div(grouped.sum(axis=1), axis=0)\n",
    "print(\"Proportions between 'upper' values and sex\")\n",
    "print(proportions)"
   ]
  },
  {
   "cell_type": "code",
   "execution_count": 10,
   "id": "c815ab3a",
   "metadata": {
    "execution": {
     "iopub.execute_input": "2024-06-03T19:18:34.981421Z",
     "iopub.status.busy": "2024-06-03T19:18:34.981047Z",
     "iopub.status.idle": "2024-06-03T19:18:35.276429Z",
     "shell.execute_reply": "2024-06-03T19:18:35.275469Z"
    },
    "papermill": {
     "duration": 0.303167,
     "end_time": "2024-06-03T19:18:35.278657",
     "exception": false,
     "start_time": "2024-06-03T19:18:34.975490",
     "status": "completed"
    },
    "tags": []
   },
   "outputs": [
    {
     "data": {
      "image/png": "[encoded data removed]",
      "text/plain": [
       "<Figure size 640x480 with 1 Axes>"
      ]
     },
     "metadata": {},
     "output_type": "display_data"
    }
   ],
   "source": [
    "proportions.plot(kind='bar', stacked=True)\n",
    "plt.ylabel('Proportion')\n",
    "plt.title('Proportion of \"Upper\" and \"Lower\" Values within Each Gender')\n",
    "plt.show()"
   ]
  }
 ],
 "metadata": {
  "kaggle": {
   "accelerator": "none",
   "dataSources": [
    {
     "datasetId": 1275,
     "sourceId": 2286,
     "sourceType": "datasetVersion"
    }
   ],
   "dockerImageVersionId": 30715,
   "isGpuEnabled": false,
   "isInternetEnabled": true,
   "language": "python",
   "sourceType": "notebook"
  },
  "kernelspec": {
   "display_name": "Python 3",
   "language": "python",
   "name": "python3"
  },
  "language_info": {
   "codemirror_mode": {
    "name": "ipython",
    "version": 3
   },
   "file_extension": ".py",
   "mimetype": "text/x-python",
   "name": "python",
   "nbconvert_exporter": "python",
   "pygments_lexer": "ipython3",
   "version": "3.10.13"
  },
  "papermill": {
   "default_parameters": {},
   "duration": 4.531564,
   "end_time": "2024-06-03T19:18:35.703311",
   "environment_variables": {},
   "exception": null,
   "input_path": "__notebook__.ipynb",
   "output_path": "__notebook__.ipynb",
   "parameters": {},
   "start_time": "2024-06-03T19:18:31.171747",
   "version": "2.5.0"
  }
 },
 "nbformat": 4,
 "nbformat_minor": 5
}
